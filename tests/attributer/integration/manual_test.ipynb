{
 "cells": [
  {
   "cell_type": "markdown",
   "metadata": {},
   "source": [
    "## Load dependencies and `so` object"
   ]
  },
  {
   "cell_type": "code",
   "execution_count": 1,
   "metadata": {
    "tags": []
   },
   "outputs": [
    {
     "name": "stderr",
     "output_type": "stream",
     "text": [
      "INFO:numexpr.utils:NumExpr defaulting to 8 threads.\n"
     ]
    },
    {
     "name": "stdout",
     "output_type": "stream",
     "text": [
      "warning: to get the latest version of this dataset use `so = sh.dataset.imc(force_download=True)`\n"
     ]
    }
   ],
   "source": [
    "# The perpuse of this notebook is to visually show that the new features added to athena, \n",
    "# namely the attributer functionality, works appropriately. \n",
    "\n",
    "# Note: this notebook should be run in an environment where the pubilicly available athena version of the package is not installed. \n",
    "# Needles to say all of the other dependencies described in the requirements.txt and dev_requirements.txt should be avilable.\n",
    "\n",
    "import os\n",
    "import sys\n",
    "import copy as cp\n",
    "import numpy as np\n",
    "import pandas as pd\n",
    "import networkx as nx\n",
    "\n",
    "# Add path to the ATHENA beta repository\n",
    "module_path = os.path.abspath(os.path.join('../../../'))\n",
    "if module_path not in sys.path:\n",
    "    sys.path.append(module_path)\n",
    "\n",
    "# Import Local package\n",
    "import athena as ath\n",
    "from athena.attributer.constants import GRAPH_ATTRIBUTER_DEFAULT_PARAMS\n",
    "\n",
    "# Loead data\n",
    "so = ath.dataset.imc()\n",
    "\n",
    "# Define sample\n",
    "spl = 'slide_49_By2x5'\n",
    "\n",
    "# Extrac centroids\n",
    "ath.pp.extract_centroids(so, spl, mask_key='cellmasks')"
   ]
  },
  {
   "cell_type": "code",
   "execution_count": 2,
   "metadata": {
    "tags": []
   },
   "outputs": [
    {
     "data": {
      "text/plain": [
       "{}"
      ]
     },
     "execution_count": 2,
     "metadata": {},
     "output_type": "execute_result"
    }
   ],
   "source": [
    "# No need to make graphs since they are preloaded apparently\n",
    "# Show that there is no attributes.\n",
    "so.G[spl]['knn'].nodes[1]"
   ]
  },
  {
   "cell_type": "code",
   "execution_count": 3,
   "metadata": {},
   "outputs": [
    {
     "data": {
      "text/plain": [
       "{'from_obs': True,\n",
       " 'obs_cols': ['meta_id', 'cell_type_id', 'phenograph_cluster', 'y', 'x'],\n",
       " 'from_X': True,\n",
       " 'X_cols': 'all'}"
      ]
     },
     "execution_count": 3,
     "metadata": {},
     "output_type": "execute_result"
    }
   ],
   "source": [
    "config = cp.deepcopy(GRAPH_ATTRIBUTER_DEFAULT_PARAMS['so'])\n",
    "config"
   ]
  },
  {
   "cell_type": "code",
   "execution_count": 4,
   "metadata": {},
   "outputs": [],
   "source": [
    "ath.attributer.add_node_features(so, spl, graph_key='knn', features_type='so', config=config)"
   ]
  },
  {
   "cell_type": "code",
   "execution_count": 5,
   "metadata": {},
   "outputs": [
    {
     "data": {
      "text/plain": [
       "{'meta_id': 11,\n",
       " 'cell_type_id': 3,\n",
       " 'phenograph_cluster': 2,\n",
       " 'y': 0.8,\n",
       " 'x': 134.1,\n",
       " 'H3': 1.31739772604977,\n",
       " 'H3K28me3': 0.524900019168854,\n",
       " 'Cytokeratin5': 0.319406591490773,\n",
       " 'Fibronectin': 35.0405220033211,\n",
       " 'Cytokeratin18': 0.0,\n",
       " 'Cytokeratin8_18': 0.0611545928983715,\n",
       " 'Twist': 0.0,\n",
       " 'CD68': 0.623443176899192,\n",
       " 'KRT14': 0.246027342461507,\n",
       " 'SMA': 0.0385142586096846,\n",
       " 'Vimentin': 4.24546156617393,\n",
       " 'cMyc': 0.314005477836054,\n",
       " 'c_erbB2Her2': 0.0,\n",
       " 'CD3epsilon': 0.0837909993025384,\n",
       " 'p_H3': 0.0,\n",
       " 'Slug': 0.0,\n",
       " 'ERa': 0.0726816199277735,\n",
       " 'PR_A_B': 0.673637350895625,\n",
       " 'p53': 0.0,\n",
       " 'CD44': 16.7154655385937,\n",
       " 'CD45': 0.481944079970148,\n",
       " 'GATA3': 0.266840493572139,\n",
       " 'CD20': 0.0,\n",
       " 'CarbonicAnhydraseIX': 0.511370712010106,\n",
       " 'E_P_Cadherin': 0.475703502084019,\n",
       " 'Ki_67': 0.049334585040109,\n",
       " 'EGFR': 0.417746155917027,\n",
       " 'p_S6': 0.490125682124616,\n",
       " 'vWF_CD31': 0.0452369704254316,\n",
       " 'p_mTOR': 0.604581735262798,\n",
       " 'Cytokeratin7': 0.0,\n",
       " 'CytokeratinPan': 0.099983991945649,\n",
       " 'PARP': 0.332670051178891,\n",
       " 'DNA2': 4.75190019607544}"
      ]
     },
     "execution_count": 5,
     "metadata": {},
     "output_type": "execute_result"
    }
   ],
   "source": [
    "so.G[spl]['knn'].nodes[1]"
   ]
  },
  {
   "cell_type": "code",
   "execution_count": 7,
   "metadata": {},
   "outputs": [
    {
     "data": {
      "text/plain": [
       "{'n_attrs': 3}"
      ]
     },
     "execution_count": 7,
     "metadata": {},
     "output_type": "execute_result"
    }
   ],
   "source": [
    "config = cp.deepcopy(GRAPH_ATTRIBUTER_DEFAULT_PARAMS['random'])\n",
    "config"
   ]
  },
  {
   "cell_type": "code",
   "execution_count": 8,
   "metadata": {},
   "outputs": [],
   "source": [
    "ath.attributer.add_node_features(so, spl, graph_key='contact', features_type='random', config=config)"
   ]
  },
  {
   "cell_type": "code",
   "execution_count": 9,
   "metadata": {},
   "outputs": [
    {
     "data": {
      "text/plain": [
       "{0: 0.3099049475988208, 1: 0.41049490666215893, 2: 0.8608418178809313}"
      ]
     },
     "execution_count": 9,
     "metadata": {},
     "output_type": "execute_result"
    }
   ],
   "source": [
    "so.G[spl]['contact'].nodes[1]"
   ]
  },
  {
   "cell_type": "code",
   "execution_count": null,
   "metadata": {},
   "outputs": [],
   "source": []
  }
 ],
 "metadata": {
  "kernelspec": {
   "display_name": "Python 3 (ipykernel)",
   "language": "python",
   "name": "python3"
  },
  "language_info": {
   "codemirror_mode": {
    "name": "ipython",
    "version": 3
   },
   "file_extension": ".py",
   "mimetype": "text/x-python",
   "name": "python",
   "nbconvert_exporter": "python",
   "pygments_lexer": "ipython3",
   "version": "3.8.15"
  }
 },
 "nbformat": 4,
 "nbformat_minor": 4
}
