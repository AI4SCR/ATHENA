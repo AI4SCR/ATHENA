{
 "cells": [
  {
   "cell_type": "markdown",
   "source": [
    "## Populate SpatialOmics instance"
   ],
   "metadata": {
    "collapsed": false,
    "pycharm": {
     "name": "#%% md\n"
    }
   }
  },
  {
   "cell_type": "markdown",
   "source": [
    "Spatial omics technologies are an emergent field and currently no standard libraries or data structures exists for handling the generated data in a consistent way. To facilitate the development of this framework we introduce the _SpatialOmics_ class. Since we work with high-dimensional images, memory complexity is a problem. _SpatialOmics_ stores data in a HDF5 file and lazily loads the required images on the fly to keep the memory consumption low.\n",
    "The design of this class is inspred by _AnnData_, a class developed for the analysis of single-cell data sets.\n",
    "\n",
    "**Objective**\n",
    "- Data standard for consistent method development\n",
    "- Technology-agnostic (resolutions, multiplexing and modalities )\n",
    "\n",
    "\n",
    "**Attributes**\n",
    "\n",
    "- **X**: Single-cell expression values (observations)\n",
    "- **var**: Annotation of features in X\n",
    "\n",
    "- **obs**: Annotation of observations\n",
    "\n",
    "- **spl**: Annotation of samples\n",
    "\n",
    "- **G**: Graph representation of observations\n",
    "\n",
    "- **images**: Raw images\n",
    "\n",
    "- **masks**: Segmentation masks\n",
    "\n",
    "- **uns**: Unstructured data\n",
    "\n",
    "\n",
    "![spatialOmics.png](img/spatialOmics.png)\n",
    "\n",
    "\n",
    "**Data hierarchy**\n",
    "\n",
    "- Sample-level information: patient features, acquisition details\n",
    "- Observation-level information: expression levels, coordinates, phenotyping\n",
    "![sample.png](img/sample.png)"
   ],
   "metadata": {
    "collapsed": false
   }
  },
  {
   "cell_type": "code",
   "execution_count": null,
   "outputs": [],
   "source": [
    "from spatialOmics import SpatialOmics\n",
    "\n",
    "# create empty instance\n",
    "so = SpatialOmics()\n"
   ],
   "metadata": {
    "collapsed": false,
    "pycharm": {
     "name": "#%%\n"
    }
   }
  },
  {
   "cell_type": "code",
   "execution_count": null,
   "outputs": [],
   "source": [
    "# load meta data\n",
    "spl = pd.read_csv(os.path.join(root, 'meta_data.csv')).set_index('core')\n",
    "\n",
    "# add sample level meta data\n",
    "so.spl = spl\n",
    "\n",
    "# samples we will work with\n",
    "samples = ['slide_7_Cy2x2',\n",
    "           'slide_7_Cy2x3',\n",
    "           'slide_7_Cy2x4',\n",
    "           'slide_59_Cy7x7',\n",
    "           'slide_59_Cy7x8',\n",
    "           'slide_59_Cy8x1',\n",
    "           'SP43_116_X3Y4',\n",
    "           'slide_49_By2x5']\n",
    "\n",
    "# add image / mask data to instance\n",
    "for s in samples:\n",
    "    so.add_image(s, so.spl.file_fullstack.loc[s])\n",
    "    so.add_mask(s, 'cellmasks', so.spl.file_cellmask.loc[s])\n",
    "    so.add_mask(s, 'tumor_stroma', so.spl.file_tumor_stroma_mask.loc[s])\n",
    "\n",
    "# populate instance with single cell expression values\n",
    "so.X = data['X'].copy()\n",
    "so.var = data['var'].copy()\n",
    "so.obs = data['obs'].copy()"
   ],
   "metadata": {
    "collapsed": false,
    "pycharm": {
     "name": "#%%\n"
    }
   }
  },
  {
   "cell_type": "code",
   "execution_count": null,
   "outputs": [],
   "source": [
    "# single cell expression values (observations)\n",
    "spl = so.spl.index[0]\n",
    "so.X[spl]"
   ],
   "metadata": {
    "collapsed": false,
    "pycharm": {
     "name": "#%%\n"
    }
   }
  },
  {
   "cell_type": "code",
   "execution_count": null,
   "outputs": [],
   "source": [
    "# annotation of observations\n",
    "spl = so.spl.index[0]\n",
    "so.obs[spl]"
   ],
   "metadata": {
    "collapsed": false,
    "pycharm": {
     "name": "#%%\n"
    }
   }
  },
  {
   "cell_type": "markdown",
   "source": [
    "![metalabels.png](metalabels.png)"
   ],
   "metadata": {
    "collapsed": false
   }
  },
  {
   "cell_type": "code",
   "execution_count": null,
   "outputs": [],
   "source": [
    "# feature annotation\n",
    "spl = so.spl.index[0]\n",
    "so.var[spl]"
   ],
   "metadata": {
    "collapsed": false,
    "pycharm": {
     "name": "#%%\n"
    }
   }
  }
 ],
 "metadata": {
  "kernelspec": {
   "display_name": "Python 3",
   "language": "python",
   "name": "python3"
  },
  "language_info": {
   "codemirror_mode": {
    "name": "ipython",
    "version": 2
   },
   "file_extension": ".py",
   "mimetype": "text/x-python",
   "name": "python",
   "nbconvert_exporter": "python",
   "pygments_lexer": "ipython2",
   "version": "2.7.6"
  }
 },
 "nbformat": 4,
 "nbformat_minor": 0
}