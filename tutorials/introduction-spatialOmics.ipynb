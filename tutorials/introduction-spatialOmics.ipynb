{
 "cells": [
  {
   "cell_type": "markdown",
   "metadata": {
    "pycharm": {
     "name": "#%% md\n"
    }
   },
   "source": [
    "## Populate SpatialOmics instance"
   ]
  },
  {
   "cell_type": "markdown",
   "metadata": {},
   "source": [
    "Spatial omics technologies are an emergent field and currently no standard libraries or data structures exists for handling the generated data in a consistent way. To facilitate the development of this framework we introduce the _SpatialOmics_ class. Since we work with high-dimensional images, memory complexity is a problem. _SpatialOmics_ stores data in a HDF5 file and lazily loads the required images on the fly to keep the memory consumption low.\n",
    "The design of this class is inspred by _AnnData_, a class developed for the analysis of single-cell data sets.\n",
    "\n",
    "**Objective**\n",
    "- Data standard for consistent method development\n",
    "- Technology-agnostic (resolutions, multiplexing and modalities )\n",
    "\n",
    "\n",
    "**Attributes**\n",
    "\n",
    "- **X**: Single-cell expression values (observations)\n",
    "- **var**: Annotation of features in X\n",
    "\n",
    "- **obs**: Annotation of observations\n",
    "\n",
    "- **spl**: Annotation of samples\n",
    "\n",
    "- **G**: Graph representation of observations\n",
    "\n",
    "- **images**: Raw images\n",
    "\n",
    "- **masks**: Segmentation masks\n",
    "\n",
    "- **uns**: Unstructured data\n",
    "\n",
    "\n",
    "![spatialOmics.png](img/spatialOmics.png)\n",
    "\n",
    "\n",
    "**Data hierarchy**\n",
    "\n",
    "- Sample-level information: patient features, acquisition details\n",
    "- Observation-level information: expression levels, coordinates, phenotyping\n",
    "![sample.png](img/sample.png)"
   ]
  },
  {
   "cell_type": "code",
   "execution_count": 1,
   "metadata": {},
   "outputs": [],
   "source": [
    "import tarfile\n",
    "import tempfile\n",
    "from skimage import io\n",
    "import os\n",
    "import pandas as pd"
   ]
  },
  {
   "cell_type": "code",
   "execution_count": 2,
   "metadata": {
    "pycharm": {
     "name": "#%%\n"
    }
   },
   "outputs": [],
   "source": [
    "from spatialOmics import SpatialOmics\n",
    "\n",
    "# create empty instance\n",
    "so = SpatialOmics()"
   ]
  },
  {
   "cell_type": "code",
   "execution_count": 3,
   "metadata": {
    "pycharm": {
     "name": "#%%\n"
    },
    "scrolled": true
   },
   "outputs": [],
   "source": [
    "import urllib.request\n",
    "import tarfile\n",
    "\n",
    "# url from which we download example images\n",
    "url = 'https://ndownloader.figshare.com/files/29006556'\n",
    "filehandle, _ = urllib.request.urlretrieve(url)"
   ]
  },
  {
   "cell_type": "code",
   "execution_count": 32,
   "metadata": {},
   "outputs": [],
   "source": [
    "# extract images from tar archive\n",
    "fimg = 'BaselTMA_SP41_15.475kx12.665ky_10000x8500_5_20170905_122_166_X15Y4_231_a0_full.tiff'\n",
    "fmask = 'BaselTMA_SP41_15.475kx12.665ky_10000x8500_5_20170905_122_166_X15Y4_231_a0_full_maks.tiff'\n",
    "fmeta = 'meta_data.csv'\n",
    "root = 'spatialOmics-tutorial'\n",
    "\n",
    "with tempfile.TemporaryDirectory() as tmpdir:\n",
    "    with tarfile.open(filehandle, 'r:gz') as tar:\n",
    "        tar.extractall(tmpdir)\n",
    "        \n",
    "        img = io.imread(os.path.join(tmpdir, root, fimg))\n",
    "        mask = io.imread(os.path.join(tmpdir, root, fmask))\n",
    "        meta = pd.read_csv(os.path.join(tmpdir, root, fmeta)).set_index('core')\n",
    "        \n",
    "        # set sample data of spatialOmics\n",
    "        so.spl = meta[[fimg in i for i in meta.filename_fullstack]]\n",
    "        \n",
    "        # add high-dimensional tiff image\n",
    "        so.add_image(so.spl.index[0], os.path.join(tmpdir, root, fimg), to_store=False)\n",
    "        \n",
    "        # add segmentation mask\n",
    "        so.add_mask(so.spl.index[0], 'cellmasks', os.path.join(tmpdir, root, fmask), to_store=False)"
   ]
  },
  {
   "cell_type": "code",
   "execution_count": 12,
   "metadata": {},
   "outputs": [],
   "source": [
    "import spatialHeterogeneity as sh\n",
    "\n",
    "# extract centroids of observations\n",
    "sh.pp.extract_centroids(so, so.spl.index[0], mask_key='cellmasks')"
   ]
  },
  {
   "cell_type": "code",
   "execution_count": 29,
   "metadata": {},
   "outputs": [
    {
     "name": "stderr",
     "output_type": "stream",
     "text": [
      "100%|██████████| 3066/3066 [00:03<00:00, 796.91it/s]\n"
     ]
    }
   ],
   "source": [
    "import numpy as np\n",
    "from tqdm import tqdm\n",
    "\n",
    "expr = so.images[so.spl.index[0]]\n",
    "mask = so.masks[so.spl.index[0]]['cellmasks']\n",
    "\n",
    "ids = np.unique(mask)\n",
    "ids = ids[ids != 0]\n",
    "\n",
    "# extract single-cell expression values\n",
    "res = []\n",
    "for i in tqdm(ids):\n",
    "    res.append(expr[:, mask == i].mean(1))\n",
    "\n",
    "# add single cell expression values to spatialOmics instance\n",
    "so.X[so.spl.index[0]] = pd.DataFrame(np.stack(res, axis=0), index=ids)"
   ]
  }
 ],
 "metadata": {
  "kernelspec": {
   "display_name": "Python 3",
   "language": "python",
   "name": "python3"
  },
  "language_info": {
   "codemirror_mode": {
    "name": "ipython",
    "version": 3
   },
   "file_extension": ".py",
   "mimetype": "text/x-python",
   "name": "python",
   "nbconvert_exporter": "python",
   "pygments_lexer": "ipython3",
   "version": "3.8.10"
  }
 },
 "nbformat": 4,
 "nbformat_minor": 1
}
