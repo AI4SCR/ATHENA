{
 "cells": [
  {
   "cell_type": "markdown",
   "metadata": {},
   "source": [
    "<img src=\"img/athena_logo.png\" alt=\"ATHENA\" style=\"width: 800px;\" class=\"left\"/>\n",
    "\n",
    "# Quantification of heterogeneity\n",
    "\n"
   ]
  },
  {
   "cell_type": "markdown",
   "metadata": {},
   "source": [
    "\n",
    "### Information-theoretic scores\n",
    "\n",
    "The quantification of the diversity in an ecosystem or a community is a long-standing problem in ecology and, not surprisingly, a vast body of scientific literature has addressed the problem. The application of the concepts developed in ecology to cancer research is straightforward and there is a direct analogy between species/cell types and ecological niches/tumor micro-environments. In general, the metrics developed in ecology try to describe the number of species and their relative abundance within a ecosystem, weighting both aspects differently depending on the metric. The mathematical foundation of these metrics is rooted in information theory.\n",
    "\n",
    "![entropic-measures.png](img/entropic-measures.png)\n",
    "\n",
    "\n",
    "### Spatial adaption\n",
    "To harness the spatial information about the tumor architecture we adjusted the computation of the diversity indices to consider the phenotype distributions of the single observations (cells). Diversity measures can be computed on a _global_ scope (top) or on a _local_ scope (bottom).\n",
    "\n",
    "The _global_ scope simply uses the phenotype distribution of the sample and is not\n",
    "exploiting the spatial information in the data. The _global_ scope quantifies the diversity only a sample-level.\n",
    "This is how traditional diversity scores in ecology work.\n",
    "\n",
    "In contrast, the _local_ scope exploits the graph representation to compute individual\n",
    "phenotype distributions for each single cell based on its neighborhood and enables a cell-level quantification of diversity.\n",
    "The resulting diversity score distribution can be aggregated / summarised to obtain a sample-level diversity score.\n",
    "\n",
    "![local-global.png](img/local-global.png)\n",
    "\n",
    "\n",
    "### Overview\n",
    "The result column indicates if the metric is computed on a global (sample) level or on a local (cell or spot) level. The input column specifies the input information used by the metrics. A metric that uses the phenotype distribution does not rely on spatial information. In contrast, metrics that require a graph input use the spatial information encoded in this data representation. Results of some methods depend on hyperparameter choices, as indicated by the last column. Every metric depends on the phenotyping process employed in the experimental setting.\n",
    "\n",
    "<!--![metrics-overview.png](img/metrics-overview.png)-->"
   ]
  },
  {
   "cell_type": "markdown",
   "metadata": {},
   "source": [
    "<!--\n",
    "| Metric             | Result | Input                  | Hyperparameter         |\n",
    "|--------------------|--------|------------------------|------------------------|\n",
    "| Shannon index      | global | phenotype distribution | --                     |\n",
    "| Shannon index      | local  | graph                  | graph choice           |\n",
    "| Shannon's evenness | global | phenotype distribution | --                     |\n",
    "| Shannon's evenness | local  | graph                  | graph choice           |\n",
    "| Simpson index      | global | phenotype distribution | --                     |\n",
    "| Simpson index      | local  | graph                  | graph choice           |\n",
    "| Simpson's evenness | global | phenotype distribution | --                     |\n",
    "| Simpson's evenness | local  | graph                  | graph choice           |\n",
    "| Gini-Simpson index | global | phenotype distribution | --                     |\n",
    "| Gini-Simpson index | local  | graph                  | graph choice           |\n",
    "| Renyi entropy      | global | phenotype distribution | $\\alpha$               |\n",
    "| Renyi entropy      | local  | graph                  | $\\alpha$, graph choice |\n",
    "| Hill numbers       | global | phenotype distribution | $q$                    |\n",
    "| Hill numbers       | local  | graph                  | $q$, graph choice      |\n",
    "| Ripley's K         | global | graph                  | radius, graph choice   |\n",
    "| Infiltration       | global | graph                  | graph choice           |\n",
    "| Classic            | global | graph                  | graph choice           |\n",
    "| HistoCAT           | global | graph                  | graph choice           |\n",
    "| Proportion         | global | graph                  | graph choice           |\n",
    "| kNN score          | global | graph                  | graph choice           |\n",
    "-->"
   ]
  },
  {
   "cell_type": "markdown",
   "metadata": {},
   "source": [
    "| Metric             | Result | Input                  | Hyperparameter         |\n",
    "|--------------------|--------|------------------------|------------------------|\n",
    "| Shannon index      | global | phenotype distribution | --                     |\n",
    "| Shannon index      | local  | graph                  | graph choice           |\n",
    "| Simpson index      | global | phenotype distribution | --                     |\n",
    "| Simpson index      | local  | graph                  | graph choice           |\n",
    "| Renyi entropy      | global | phenotype distribution | $\\alpha$               |\n",
    "| Renyi entropy      | local  | graph                  | $\\alpha$, graph choice |\n",
    "| Hill numbers       | global | phenotype distribution | $q$                    |\n",
    "| Hill numbers       | local  | graph                  | $q$, graph choice      |\n",
    "| Quadratic Entropy  | global | phenotype distribution | $D(x,y)$               |\n",
    "| Quadratic Entropy  | local  | phenotype distribution | $D(x,y)$, graph choice |\n",
    "| Ripley's K         | global | graph                  | radius, graph choice   |\n",
    "| Infiltration       | global | graph                  | graph choice           |\n",
    "| Classic            | global | graph                  | graph choice           |\n",
    "| HistoCAT           | global | graph                  | graph choice           |\n",
    "| Proportion         | global | graph                  | graph choice           |"
   ]
  },
  {
   "cell_type": "markdown",
   "metadata": {},
   "source": [
    "## Infiltration\n",
    "The infiltration score was introduced by Keren _et al._ to measure the degree of immune cell infiltration into the tumor mass.\n",
    "\n",
    "$\\text{score}=\\frac{N_{it}}{N_{ii}}$\n",
    "\n",
    "where $N_{it}$ is the number of edges between tumor and immune cells and $N_{ii}$ the number of edges between immune cells."
   ]
  },
  {
   "cell_type": "markdown",
   "metadata": {},
   "source": [
    "## Phenotype interactions\n",
    "\n",
    "Interaction strength of pairs-wise phenotypes is computed by observing the number or proportion of interactions a given phenotype has with another phenotype on average across a sample. A permutation test is used to determine whether the observed interaction strength is an  enrichment or depletion.\n",
    "\n",
    "![interactions.png](img/interactions.png)\n",
    "<!-- ![interactions-quant.png](interactions-quant.png) -->"
   ]
  },
  {
   "cell_type": "markdown",
   "metadata": {},
   "source": [
    "The framework implements three different flavours to determine the pair-wise interaction strength between phenotypes.\n",
    "\n",
    "- classic / [histoCAT](http://www.nature.com/articles/nmeth.4391): Methods developed by the Bodenmiller lab. Estimate the pair-wise interaction strength by counting the number of edges between pair-wise phenotypes.\n",
    "- proportion: Flavour of the classic method that normalises the number of edges between phenotypes by the total number of edges present and thus bounds the score [0,1]. \n",
    "\n",
    "All those methods assess the direction of the interaction (attraction / avoidance) by a permutation test.\n",
    "This is, the phenotype labels are randomly permuted and the interaction strength recomputed.\n",
    "This is repeated multiple times to generate a null hypothesis against which the observed interaction strength is compared.\n",
    "If `prediction_type=pvalue`, we compute P-values for the interaction strength based on the two individual one-tailed permutation tests.\n",
    "If `prediction_type=diff` the score is simply the difference of the average interaction strength across all permutations and the observed interaction strength.\n",
    "\n",
    "In the following cell we compute the interaction strength between the `meta_id` phenotypes."
   ]
  }
 ],
 "metadata": {
  "kernelspec": {
   "display_name": "Python 3",
   "language": "python",
   "name": "python3"
  },
  "language_info": {
   "codemirror_mode": {
    "name": "ipython",
    "version": 3
   },
   "file_extension": ".py",
   "mimetype": "text/x-python",
   "name": "python",
   "nbconvert_exporter": "python",
   "pygments_lexer": "ipython3",
   "version": "3.7.7"
  },
  "varInspector": {
   "cols": {
    "lenName": 16,
    "lenType": 16,
    "lenVar": 40
   },
   "kernels_config": {
    "python": {
     "delete_cmd_postfix": "",
     "delete_cmd_prefix": "del ",
     "library": "var_list.py",
     "varRefreshCmd": "print(var_dic_list())"
    },
    "r": {
     "delete_cmd_postfix": ") ",
     "delete_cmd_prefix": "rm(",
     "library": "var_list.r",
     "varRefreshCmd": "cat(var_dic_list()) "
    }
   },
   "types_to_exclude": [
    "module",
    "function",
    "builtin_function_or_method",
    "instance",
    "_Feature"
   ],
   "window_display": false
  }
 },
 "nbformat": 4,
 "nbformat_minor": 4
}
